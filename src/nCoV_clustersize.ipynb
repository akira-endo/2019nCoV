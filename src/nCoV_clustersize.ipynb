{
 "cells": [
  {
   "cell_type": "markdown",
   "metadata": {},
   "source": [
    "## Overdispersion estimation from the cluster size distributions outside China\n",
    "\n",
    "## Background\n",
    "A novel coronavirus (2019-nCoV) outbreak has been continuing in China, while a few imported cases are observed in the neighbouring countries. Although the spread across China exihibited substantial amount of human-to-human transmisison, there have not been as many secondary cases observed in the countries with travel cases as we might expect from the estimate of $R_0$ around 2-3. This suggests that not all symptomatic cases lead to a secondary transmission, which was also the case in the past SARS/MERS outbreaks. Furthermore, even if any subclinical cases had been imported into these countries undetected, at least such cases did not contributed to secondary transmissions from which a detectable case originates.\n"
   ]
  },
  {
   "cell_type": "markdown",
   "metadata": {},
   "source": [
    "## Method\n",
    "Cluster size distribution for geometric distribution generated from $s$ initial cases is given as\n",
    "$$\n",
    "P(X=x;s)=\\frac{ks}{kx+x-s}\\binom{kx+x-s}{x-s}\\frac{\\left(\\frac{R_0} k\\right)^{x-s}}{\\left(1+\\frac{R_0} k\\right)^{kx+x-s}}.\n",
    "$$\n",
    "\n",
    "We assumed that the growth of a cluster in a country has been ceased if 7 days are passed since the latest reported cases (ceased countries: $A$). We applied the above likelihood to those ceased countries. The final cluster sizes are unknown for the remaining countries (ongoing countries: $B$); therefore, we only used the information that the final size would be larger than the current cluster size, i.e.\n",
    "$$\n",
    "P(X\\geq x;s)=1-\\sum_{m=0}^{x}P(X=m;s)+P(X=x;s)\n",
    "$$\n",
    "\n",
    "The total likelihood is\n",
    "$$\n",
    "L(R_0,k)=\\prod_{i\\in A}P(X=x_i;s_i)\\prod_{i\\in B}P(X\\geq x_i;s_i)\n",
    "$$"
   ]
  },
  {
   "cell_type": "code",
   "execution_count": 1,
   "metadata": {},
   "outputs": [],
   "source": [
    "currdate=as.Date(\"2020-2-18\")\n",
    "# buffer period: we assume the growth of a cluster is ceased when this period has been passed since the latest case report\n",
    "buffer=7"
   ]
  },
  {
   "cell_type": "code",
   "execution_count": 2,
   "metadata": {},
   "outputs": [
    {
     "data": {
      "text/html": [
       "<table>\n",
       "<caption>A data.frame: 6 × 12</caption>\n",
       "<thead>\n",
       "\t<tr><th></th><th scope=col>ï..</th><th scope=col>Total</th><th scope=col>new.Total</th><th scope=col>Imported</th><th scope=col>new.Imported</th><th scope=col>Local</th><th scope=col>new.Local</th><th scope=col>Unknown</th><th scope=col>new.Unknown</th><th scope=col>Death</th><th scope=col>new.Death</th><th scope=col>latestdate</th></tr>\n",
       "\t<tr><th></th><th scope=col>&lt;fct&gt;</th><th scope=col>&lt;int&gt;</th><th scope=col>&lt;int&gt;</th><th scope=col>&lt;dbl&gt;</th><th scope=col>&lt;int&gt;</th><th scope=col>&lt;dbl&gt;</th><th scope=col>&lt;int&gt;</th><th scope=col>&lt;int&gt;</th><th scope=col>&lt;int&gt;</th><th scope=col>&lt;int&gt;</th><th scope=col>&lt;int&gt;</th><th scope=col>&lt;date&gt;</th></tr>\n",
       "</thead>\n",
       "<tbody>\n",
       "\t<tr><th scope=row>Singapore</th><td>Singapore  </td><td>77</td><td>2</td><td>23</td><td>1</td><td>53</td><td>1</td><td>1</td><td>0</td><td>0</td><td>0</td><td>2020-02-18</td></tr>\n",
       "\t<tr><th scope=row>Japan</th><td>Japan      </td><td>65</td><td>6</td><td>26</td><td>0</td><td>39</td><td>6</td><td>0</td><td>0</td><td>1</td><td>0</td><td>2020-02-18</td></tr>\n",
       "\t<tr><th scope=row>South Korea</th><td>South Korea</td><td>31</td><td>1</td><td>16</td><td>0</td><td>12</td><td>1</td><td>3</td><td>0</td><td>0</td><td>0</td><td>2020-02-19</td></tr>\n",
       "\t<tr><th scope=row>Malaysia</th><td>Malaysia   </td><td>22</td><td>0</td><td>18</td><td>0</td><td> 3</td><td>0</td><td>1</td><td>0</td><td>0</td><td>0</td><td>2020-02-15</td></tr>\n",
       "\t<tr><th scope=row>Vietnam</th><td>Vietnam    </td><td>16</td><td>0</td><td> 8</td><td>0</td><td> 8</td><td>0</td><td>0</td><td>0</td><td>0</td><td>0</td><td>2020-02-13</td></tr>\n",
       "\t<tr><th scope=row>Australia</th><td>Australia  </td><td>15</td><td>0</td><td>12</td><td>0</td><td> 3</td><td>0</td><td>0</td><td>0</td><td>0</td><td>0</td><td>2020-02-06</td></tr>\n",
       "</tbody>\n",
       "</table>\n"
      ],
      "text/latex": [
       "A data.frame: 6 × 12\n",
       "\\begin{tabular}{r|llllllllllll}\n",
       "  & ï.. & Total & new.Total & Imported & new.Imported & Local & new.Local & Unknown & new.Unknown & Death & new.Death & latestdate\\\\\n",
       "  & <fct> & <int> & <int> & <dbl> & <int> & <dbl> & <int> & <int> & <int> & <int> & <int> & <date>\\\\\n",
       "\\hline\n",
       "\tSingapore & Singapore   & 77 & 2 & 23 & 1 & 53 & 1 & 1 & 0 & 0 & 0 & 2020-02-18\\\\\n",
       "\tJapan & Japan       & 65 & 6 & 26 & 0 & 39 & 6 & 0 & 0 & 1 & 0 & 2020-02-18\\\\\n",
       "\tSouth Korea & South Korea & 31 & 1 & 16 & 0 & 12 & 1 & 3 & 0 & 0 & 0 & 2020-02-19\\\\\n",
       "\tMalaysia & Malaysia    & 22 & 0 & 18 & 0 &  3 & 0 & 1 & 0 & 0 & 0 & 2020-02-15\\\\\n",
       "\tVietnam & Vietnam     & 16 & 0 &  8 & 0 &  8 & 0 & 0 & 0 & 0 & 0 & 2020-02-13\\\\\n",
       "\tAustralia & Australia   & 15 & 0 & 12 & 0 &  3 & 0 & 0 & 0 & 0 & 0 & 2020-02-06\\\\\n",
       "\\end{tabular}\n"
      ],
      "text/markdown": [
       "\n",
       "A data.frame: 6 × 12\n",
       "\n",
       "| <!--/--> | ï.. &lt;fct&gt; | Total &lt;int&gt; | new.Total &lt;int&gt; | Imported &lt;dbl&gt; | new.Imported &lt;int&gt; | Local &lt;dbl&gt; | new.Local &lt;int&gt; | Unknown &lt;int&gt; | new.Unknown &lt;int&gt; | Death &lt;int&gt; | new.Death &lt;int&gt; | latestdate &lt;date&gt; |\n",
       "|---|---|---|---|---|---|---|---|---|---|---|---|---|\n",
       "| Singapore | Singapore   | 77 | 2 | 23 | 1 | 53 | 1 | 1 | 0 | 0 | 0 | 2020-02-18 |\n",
       "| Japan | Japan       | 65 | 6 | 26 | 0 | 39 | 6 | 0 | 0 | 1 | 0 | 2020-02-18 |\n",
       "| South Korea | South Korea | 31 | 1 | 16 | 0 | 12 | 1 | 3 | 0 | 0 | 0 | 2020-02-19 |\n",
       "| Malaysia | Malaysia    | 22 | 0 | 18 | 0 |  3 | 0 | 1 | 0 | 0 | 0 | 2020-02-15 |\n",
       "| Vietnam | Vietnam     | 16 | 0 |  8 | 0 |  8 | 0 | 0 | 0 | 0 | 0 | 2020-02-13 |\n",
       "| Australia | Australia   | 15 | 0 | 12 | 0 |  3 | 0 | 0 | 0 | 0 | 0 | 2020-02-06 |\n",
       "\n"
      ],
      "text/plain": [
       "            ï..         Total new.Total Imported new.Imported Local new.Local\n",
       "Singapore   Singapore   77    2         23       1            53    1        \n",
       "Japan       Japan       65    6         26       0            39    6        \n",
       "South Korea South Korea 31    1         16       0            12    1        \n",
       "Malaysia    Malaysia    22    0         18       0             3    0        \n",
       "Vietnam     Vietnam     16    0          8       0             8    0        \n",
       "Australia   Australia   15    0         12       0             3    0        \n",
       "            Unknown new.Unknown Death new.Death latestdate\n",
       "Singapore   1       0           0     0         2020-02-18\n",
       "Japan       0       0           1     0         2020-02-18\n",
       "South Korea 3       0           0     0         2020-02-19\n",
       "Malaysia    1       0           0     0         2020-02-15\n",
       "Vietnam     0       0           0     0         2020-02-13\n",
       "Australia   0       0           0     0         2020-02-06"
      ]
     },
     "metadata": {},
     "output_type": "display_data"
    }
   ],
   "source": [
    "# Data\n",
    "# Imported and local cases outside China\n",
    "# Source (accessed 18/2/2020): https://www.who.int/docs/default-source/coronaviruse/situation-reports/20200218-sitrep-29-covid-19.pdf\n",
    "WHO_data=read.csv(\"../data/bycountries.csv\")\n",
    "rownames(WHO_data)=WHO_data[,1]\n",
    "\n",
    "# modification of numbers\n",
    "modifydata<-function(country,from,to,howmany){\n",
    "    WHO_data[country,from]=WHO_data[country,from]-howmany\n",
    "    WHO_data[country,to]=WHO_data[country,to]+howmany\n",
    "    return(WHO_data)\n",
    "}\n",
    "#‡The exposure for 3 cases occurred outside of Republic of Korea.\n",
    "WHO_data=modifydata(\"South Korea\",\"Local\",\"Imported\",3)\n",
    "#§The exposure for 1 case occurred outside of Malaysia. One patient also had travel history to China, but exposure likely occurred after return to Malaysia.\n",
    "WHO_data=modifydata(\"Malaysia\",\"Local\",\"Imported\",1)\n",
    "#**The exposure for 6 cases occurred outside of the United Kingdom.\n",
    "WHO_data=modifydata(\"UK\",\"Local\",\"Imported\",6)\n",
    "#††The exposure for 2 cases occurred outside of Spain\n",
    "WHO_data=modifydata(\"Spain\",\"Local\",\"Imported\",2)\n",
    "\n",
    "# Remove Cruise ship data\n",
    "#WHO_data=WHO_data[-nrow(WHO_data),]\n",
    "\n",
    "# Daily confirmed cases (by date of confirmation)\n",
    "# Source (accessed 18/2/2020): https://docs.google.com/spreadsheets/d/1Z7VQ5xlf3BaTx_LBBblsW4hLoGYWnZyog3jqsS9Dbgc\n",
    "daily_data=read.csv(\"../data/dailycases_international.csv\")\n",
    "countrynames=daily_data[-(1:2),2]\n",
    "names(countrynames)=as.character(countrynames)\n",
    "counts=suppressWarnings(apply(t(daily_data[-(1:2),-(1:2)]),1:2,as.numeric))\n",
    "dates=as.Date(\"2020-1-13\")+1:nrow(counts)-1\n",
    "dailydata=cbind(dates,as.data.frame(counts))\n",
    "rownames(dailydata)=NULL\n",
    "colnames(dailydata)=c(\"date\",as.character(countrynames))\n",
    "\n",
    "# get dates of last reported case for each country\n",
    "latestdates=data.frame(countrynames,latestdate=as.Date(apply(dailydata[,-1],2,function(x){\n",
    "    lastreported=tail(which(!(x %in% NA)),1)\n",
    "    as.character(dailydata[lastreported,1])\n",
    "})))\n",
    "\n",
    "# get the number of cases \n",
    "\n",
    "\n",
    "# reorder latestdates according to WHO data\n",
    "latestdates_WHO=latestdates[rownames(WHO_data),2]\n",
    "WHO_data=cbind(WHO_data,latestdate=latestdates_WHO)\n",
    "head(WHO_data)"
   ]
  },
  {
   "cell_type": "code",
   "execution_count": 3,
   "metadata": {},
   "outputs": [],
   "source": [
    "# label countries with/without cases in the last (buffer) days\n",
    "isextinct=WHO_data$latestdate<currdate-buffer\n",
    "icases=WHO_data$Imported\n",
    "lcases=WHO_data$Local"
   ]
  },
  {
   "cell_type": "code",
   "execution_count": 4,
   "metadata": {},
   "outputs": [],
   "source": [
    "# cluster size inference\n",
    "llextinct<-function(icases,lcases,R0,k){\n",
    "    if(length(icases)==0)return(0)\n",
    "    tcases=lcases+icases\n",
    "    lls=log(k*icases)-log((k+1)*tcases-icases)+lchoose((k+1)*tcases-icases,tcases-icases)+(tcases-icases)*log(R0/k)-((k+1)*tcases-icases)*log(1+R0/k)\n",
    "    sum(lls,na.rm=T)\n",
    "}\n",
    "\n",
    "llongoing<-function(icases,lcases,R0,k){\n",
    "    if(length(icases)==0) return(0)\n",
    "    ll=0\n",
    "    for(i in 1:length(icases)){\n",
    "        prob=1\n",
    "        if(icases[i]==0||lcases[i]==0)next\n",
    "        for(x in 0:(lcases[i]-1)){\n",
    "            prob=prob-exp(llextinct(icases[i],x,R0,k))\n",
    "        }\n",
    "        if(!is.nan(prob))ll=ll+log(max(0,prob))\n",
    "    }\n",
    "    return(ll)\n",
    "}\n",
    "\n",
    "lltotal<-function(nbparm,icases,lcases,isextinct){\n",
    "    nbparm=exp(nbparm)\n",
    "    R0=nbparm[1];k=nbparm[2]\n",
    "    llextinct(icases[isextinct],lcases[isextinct],R0,k)+llongoing(icases[!isextinct],lcases[!isextinct],R0,k)\n",
    "}\n",
    "lltotal_R0<-function(k,icases,lcases,isextinct,R0){\n",
    "    llextinct(icases[isextinct],lcases[isextinct],R0,k)+llongoing(icases[!isextinct],lcases[!isextinct],R0,k)\n",
    "}"
   ]
  },
  {
   "cell_type": "code",
   "execution_count": 5,
   "metadata": {},
   "outputs": [
    {
     "data": {
      "text/html": [
       "TRUE"
      ],
      "text/latex": [
       "TRUE"
      ],
      "text/markdown": [
       "TRUE"
      ],
      "text/plain": [
       "[1] TRUE"
      ]
     },
     "metadata": {},
     "output_type": "display_data"
    },
    {
     "data": {
      "text/html": [
       "TRUE"
      ],
      "text/latex": [
       "TRUE"
      ],
      "text/markdown": [
       "TRUE"
      ],
      "text/plain": [
       "[1] TRUE"
      ]
     },
     "metadata": {},
     "output_type": "display_data"
    }
   ],
   "source": [
    "# Test block\n",
    "R0=runif(100,0,5);k=runif(100,0,5)\n",
    "# equals negbinom when x==s\n",
    "all.equal(dnbinom(0,k,mu=R0,log=T),sapply(1:length(R0),function(x)llextinct(1,0,R0[x],k[x])))\n",
    "# sum up to (almost) 1 when R0<<1\n",
    "R0=runif(30)/2                                         \n",
    "lls=sapply(1:length(R0),function(x)llongoing(sample(1:5,1),3e4,R0[x],k[x]))\n",
    "all.equal(exp(lls),numeric(length(R0)))"
   ]
  },
  {
   "cell_type": "code",
   "execution_count": 6,
   "metadata": {},
   "outputs": [
    {
     "data": {
      "image/png": "[encoded data removed]",
      "text/plain": [
       "plot without title"
      ]
     },
     "metadata": {},
     "output_type": "display_data"
    }
   ],
   "source": [
    "# Optimise\n",
    "#opt=optim(fn=lltotal,par=c(1,1),method=\"L-BFGS\",lower=c(1e-2,1e-2),upper=c(10,10),icases=icases,lcases=lcases,isextinct=isextinct,control=list(fnscale=-1))\n",
    "#\n",
    "estimatek<-function(R0){\n",
    "    opt=optim(fn=lltotal_R0,par=1,method=\"Brent\",lower=0,upper=5,icases=icases,lcases=lcases,isextinct=isextinct,R0=R0,control=list(fnscale=-1,trace=1))\n",
    "    opt$par\n",
    "}\n",
    "\n",
    "R0s=1:25/5\n",
    "k_est=sapply(R0s,estimatek)\n",
    "plot(x=R0s,y=k_est)\n"
   ]
  },
  {
   "cell_type": "code",
   "execution_count": null,
   "metadata": {},
   "outputs": [],
   "source": [
    "# MCMC\n",
    "library(LaplacesDemon)\n",
    "Data=Data=list(N=13,mon.names=c(\"nlogl\",\"R0\"),parm.names=\"overdispersion k\",R0=1,icases=icases,lcases=lcases,isextinct=isextinct)\n",
    "Model=function(parm,Data){\n",
    "    k=interval(parm,0)\n",
    "    ll=lltotal_R0(k,Data$icases,Data$lcases,Data$isextinct,Data$R0)\n",
    "    return(list(LP=ll,Dev=-2*ll,Monitor=c(ll,Data$R0),yhat=NULL,parm=k))\n",
    "}\n",
    "#fit<-LaplacesDemon(Model=Model,Data=Data,Initial.Values=1,Covar=NULL,Iterations=10000,Status=1000,Thinning=10,Algorithm='HARM',Specs=NULL)\n",
    "\n",
    "R0s=1:25/5\n",
    "niter=10000\n",
    "k_est=sapply(R0s,function(R0){\n",
    "    Data$R0=R0\n",
    "    fit=LaplacesDemon(Model=Model,Data=Data,Initial.Values=1,Covar=NULL,Iterations=niter,Status=niter,Thinning=10,Algorithm='HARM',Specs=NULL)\n",
    "    fit$Posterior1[(niter%/%20):(niter%/%10)]\n",
    "})"
   ]
  },
  {
   "cell_type": "code",
   "execution_count": 8,
   "metadata": {},
   "outputs": [
    {
     "data": {
      "image/png": "[encoded data removed]",
      "text/plain": [
       "plot without title"
      ]
     },
     "metadata": {},
     "output_type": "display_data"
    }
   ],
   "source": [
    "# Plot\n",
    "med=apply(k_est,2,median)\n",
    "cri=apply(k_est,2,function(x){quantile(x,c(0.025,0.975))})\n",
    "plot(x=R0s,y=med,xlim=c(0,5),ylim=c(0,1),type=\"l\",xlab=\"R0\",ylab=\"overdispersion\")\n",
    "polygon(x=c(R0s,rev(R0s)),y=c(cri[1,],rev(cri[2,])),lty=0,col=rgb(0,0,0,0.1))"
   ]
  },
  {
   "cell_type": "code",
   "execution_count": null,
   "metadata": {},
   "outputs": [],
   "source": []
  }
 ],
 "metadata": {
  "jupytext": {
   "formats": "ipynb,Rmd"
  },
  "kernelspec": {
   "display_name": "R",
   "language": "R",
   "name": "ir"
  },
  "language_info": {
   "codemirror_mode": "r",
   "file_extension": ".r",
   "mimetype": "text/x-r-source",
   "name": "R",
   "pygments_lexer": "r",
   "version": "3.6.1"
  }
 },
 "nbformat": 4,
 "nbformat_minor": 4
}
