{
 "cells": [
  {
   "cell_type": "markdown",
   "metadata": {},
   "source": [
    "## Overdispersion estimation from the cluster size distributions outside China\n",
    "\n",
    "## Background\n",
    "A novel coronavirus disease (COVID-19) outbreak, which is considered to have been originated from the wildlife market in Wuhan, China, has now been affecting a number of countries worldwide. Substantial amount of human-to-human transmisisons were observed in China and other countries; the basic reproduction number $R_0$ (the average number of secondary transmissions caused by a single primary case) has been estimated around 2-3. However, there are a few countries where a number of imported cases were ascertained but have not seen as many secondary cases as one might expect from the $R_0$ above one.\n",
    "\n",
    "This suggests that not all symptomatic cases cause a secondary transmission, which was also suggested in the past coronavirus outbreaks (SARS/MERS). Such high variation in the distribution of the number of secondary transmissions (offspring distribution), often characterised by the overdispersion parameter $k$ of the negative binomial distribution, is critical information in the epidemic control strategy. High overdispersion in the offspring distribution suggests that most cases do not contribute to the expansion of the epidemic, thereby highlighting the importance of containment efforts to prevent superspreading events from happening.\n",
    "\n",
    "The overdispersion parameter $k$ for the current COVID-19 outbreak has been studied using international case counts ([Grantz et al. (web page)](https://hopkinsidd.github.io/nCoV-Sandbox/DispersionExploration.html)), suggesting that $k$ might be below 1 (i.e. overdispersed) for the range $R_0>1$. However, their estimates are likely underestimated because they assumed that the current number of cases are the final size of the clusters; in reality, the observed clusters of cases are still growing in certain countries. Here, we show alternative approaches to estimating $k$ while accounting for possible future growth of clusters in some countries."
   ]
  },
  {
   "cell_type": "markdown",
   "metadata": {},
   "source": [
    "## Method\n",
    "Assume that the offspring distribution for COVID-19 cases an i.i.d. negative-binomial distribution. The probability mass function for the final cluster size resulting from $s$ initial cases is given as\n",
    "$$\n",
    "c(x;s)=P(X=x;s)=\\frac{ks}{kx+x-s}\\binom{kx+x-s}{x-s}\\frac{\\left(\\frac{R_0} k\\right)^{x-s}}{\\left(1+\\frac{R_0} k\\right)^{kx+x-s}}.\n",
    "$$\n",
    "\n",
    "However, if the observed case counts are that of an ongoing outbreak in a country, this likelihood does not correspond to the actual interpretation of the observed data because the current cluster size might grow in the future. To address this issue, we propose two different approaches as the adjusted likelihood.\n",
    "\n",
    "### 1. Noninformative likelihood for the ongoing clusters\n",
    "Let us assume that we have no information on the final cluster sizes for the countries with ongoing transmission, except that it has to be larger than the currently observed size. The corresponding likelihood function is\n",
    "$$\n",
    "c_1(x;s)=P(X\\geq x;s)=1-\\sum_{m=0}^{x}c(m;s)+c(x;s)\n",
    "$$\n",
    "\n",
    "### 2. Likelihood modification for the growing branches\n",
    "In the currently observed clusters, we could assume that only cases who are detected relatively recently are potentially infectious and can contribute to the future growth of the cluster. Let $y$ be the number of such cases (ongoing branches). Assuming that the offsprings of ongoing branches have not yet been observed in the current data, the probability that none of the current ongoing branches will cause secondary cases in the future is given as $\\left(\\mathrm{NegBinom}\\left(0;k,\\frac{k}{R_0+k}\\right)\\right)^y$. Therefore we get\n",
    "$$\n",
    "c(x;s)P(y|x,s)=c_2(x;s)\\left(\\mathrm{NegBinom}\\left(0;k,\\frac{k}{R_0+k}\\right)\\right)^y\n",
    "$$\n",
    "\n",
    "As we are not interested in the temporal distribution of cases, let us assume $P(y|x,s)=1$\n",
    "\n",
    "### Defining countries with ongoing outbreak and total likelihood\n",
    "We assumed that the growth of a cluster in a country has been ceased if 7 days are passed since the latest reported cases (ceased countries: $A$). We applied the above likelihood to those ceased countries.\n",
    "\n",
    "The total likelihood is\n",
    "$$\n",
    "L(R_0,k)=\\prod_{i\\in A}P(X=x_i;s_i)\\prod_{i\\in B}P(X\\geq x_i;s_i)\n",
    "$$\n",
    "\n"
   ]
  },
  {
   "cell_type": "code",
   "execution_count": 1,
   "metadata": {},
   "outputs": [],
   "source": [
    "currdate=as.Date(\"2020-2-24\")\n",
    "# buffer period: we assume the growth of a cluster is ceased when this period has been passed since the latest case report\n",
    "buffer=7"
   ]
  },
  {
   "cell_type": "code",
   "execution_count": 2,
   "metadata": {},
   "outputs": [
    {
     "data": {
      "text/html": [
       "<table>\n",
       "<caption>A data.frame: 6 × 8</caption>\n",
       "<thead>\n",
       "\t<tr><th></th><th scope=col>ï..</th><th scope=col>Total</th><th scope=col>Imported</th><th scope=col>Local</th><th scope=col>Unknown</th><th scope=col>Death</th><th scope=col>latestdate</th><th scope=col>ongoingbranches</th></tr>\n",
       "\t<tr><th></th><th scope=col>&lt;fct&gt;</th><th scope=col>&lt;int&gt;</th><th scope=col>&lt;dbl&gt;</th><th scope=col>&lt;dbl&gt;</th><th scope=col>&lt;int&gt;</th><th scope=col>&lt;int&gt;</th><th scope=col>&lt;date&gt;</th><th scope=col>&lt;dbl&gt;</th></tr>\n",
       "</thead>\n",
       "<tbody>\n",
       "\t<tr><th scope=row>South Korea</th><td>South Korea</td><td>602</td><td>17</td><td>353</td><td>232</td><td>5</td><td>2020-02-24</td><td>734</td></tr>\n",
       "\t<tr><th scope=row>Japan</th><td>Japan      </td><td>132</td><td>33</td><td> 92</td><td>  7</td><td>1</td><td>2020-02-23</td><td> 87</td></tr>\n",
       "\t<tr><th scope=row>Singapore</th><td>Singapore  </td><td> 89</td><td>24</td><td> 58</td><td>  7</td><td>0</td><td>2020-02-22</td><td> 14</td></tr>\n",
       "\t<tr><th scope=row>Australia</th><td>Australia  </td><td> 22</td><td>19</td><td>  3</td><td>  0</td><td>0</td><td>2020-02-23</td><td>  7</td></tr>\n",
       "\t<tr><th scope=row>Malaysia</th><td>Malaysia   </td><td> 22</td><td>18</td><td>  2</td><td>  2</td><td>0</td><td>2020-02-15</td><td>  0</td></tr>\n",
       "\t<tr><th scope=row>Vietnam</th><td>Vietnam    </td><td> 16</td><td> 8</td><td>  8</td><td>  0</td><td>0</td><td>2020-02-13</td><td>  0</td></tr>\n",
       "</tbody>\n",
       "</table>\n"
      ],
      "text/latex": [
       "A data.frame: 6 × 8\n",
       "\\begin{tabular}{r|llllllll}\n",
       "  & ï.. & Total & Imported & Local & Unknown & Death & latestdate & ongoingbranches\\\\\n",
       "  & <fct> & <int> & <dbl> & <dbl> & <int> & <int> & <date> & <dbl>\\\\\n",
       "\\hline\n",
       "\tSouth Korea & South Korea & 602 & 17 & 353 & 232 & 5 & 2020-02-24 & 734\\\\\n",
       "\tJapan & Japan       & 132 & 33 &  92 &   7 & 1 & 2020-02-23 &  87\\\\\n",
       "\tSingapore & Singapore   &  89 & 24 &  58 &   7 & 0 & 2020-02-22 &  14\\\\\n",
       "\tAustralia & Australia   &  22 & 19 &   3 &   0 & 0 & 2020-02-23 &   7\\\\\n",
       "\tMalaysia & Malaysia    &  22 & 18 &   2 &   2 & 0 & 2020-02-15 &   0\\\\\n",
       "\tVietnam & Vietnam     &  16 &  8 &   8 &   0 & 0 & 2020-02-13 &   0\\\\\n",
       "\\end{tabular}\n"
      ],
      "text/markdown": [
       "\n",
       "A data.frame: 6 × 8\n",
       "\n",
       "| <!--/--> | ï.. &lt;fct&gt; | Total &lt;int&gt; | Imported &lt;dbl&gt; | Local &lt;dbl&gt; | Unknown &lt;int&gt; | Death &lt;int&gt; | latestdate &lt;date&gt; | ongoingbranches &lt;dbl&gt; |\n",
       "|---|---|---|---|---|---|---|---|---|\n",
       "| South Korea | South Korea | 602 | 17 | 353 | 232 | 5 | 2020-02-24 | 734 |\n",
       "| Japan | Japan       | 132 | 33 |  92 |   7 | 1 | 2020-02-23 |  87 |\n",
       "| Singapore | Singapore   |  89 | 24 |  58 |   7 | 0 | 2020-02-22 |  14 |\n",
       "| Australia | Australia   |  22 | 19 |   3 |   0 | 0 | 2020-02-23 |   7 |\n",
       "| Malaysia | Malaysia    |  22 | 18 |   2 |   2 | 0 | 2020-02-15 |   0 |\n",
       "| Vietnam | Vietnam     |  16 |  8 |   8 |   0 | 0 | 2020-02-13 |   0 |\n",
       "\n"
      ],
      "text/plain": [
       "            ï..         Total Imported Local Unknown Death latestdate\n",
       "South Korea South Korea 602   17       353   232     5     2020-02-24\n",
       "Japan       Japan       132   33        92     7     1     2020-02-23\n",
       "Singapore   Singapore    89   24        58     7     0     2020-02-22\n",
       "Australia   Australia    22   19         3     0     0     2020-02-23\n",
       "Malaysia    Malaysia     22   18         2     2     0     2020-02-15\n",
       "Vietnam     Vietnam      16    8         8     0     0     2020-02-13\n",
       "            ongoingbranches\n",
       "South Korea 734            \n",
       "Japan        87            \n",
       "Singapore    14            \n",
       "Australia     7            \n",
       "Malaysia      0            \n",
       "Vietnam       0            "
      ]
     },
     "metadata": {},
     "output_type": "display_data"
    }
   ],
   "source": [
    "# Data\n",
    "# Imported and local cases outside China\n",
    "# Source (accessed 18/2/2020): https://www.who.int/docs/default-source/coronaviruse/situation-reports/20200218-sitrep-29-covid-19.pdf\n",
    "WHO_data=read.csv(\"../data/bycountries_24Feb2020.csv\")\n",
    "WHO_data[,\"ImportedChina\"]=WHO_data[,\"ImportedChina\"]+WHO_data[,\"ImportedOthers\"]\n",
    "WHO_data=WHO_data[,-4]\n",
    "colnames(WHO_data)[3]=\"Imported\"\n",
    "rownames(WHO_data)=WHO_data[,1]\n",
    "\n",
    "# modify of numbers\n",
    "modifydata<-function(country,from,to,howmany){\n",
    "    WHO_data[country,from]=WHO_data[country,from]-howmany\n",
    "    WHO_data[country,to]=WHO_data[country,to]+howmany\n",
    "    return(WHO_data)\n",
    "}\n",
    "# Isolated local case in Egypt and Iran \n",
    "WHO_data=modifydata(\"Egypt\",\"Local\",\"Imported\",1)\n",
    "WHO_data=modifydata(\"Iran\",\"Local\",\"Imported\",1)\n",
    "\n",
    "# Daily confirmed cases (by date of confirmation)\n",
    "# Source (accessed 18/2/2020): https://docs.google.com/spreadsheets/d/1Z7VQ5xlf3BaTx_LBBblsW4hLoGYWnZyog3jqsS9Dbgc\n",
    "daily_data=read.csv(\"../data/dailycases_international_24Feb2020.csv\")\n",
    "countrynames=daily_data[-(1:2),2]\n",
    "names(countrynames)=as.character(countrynames)\n",
    "counts=suppressWarnings(apply(t(daily_data[-(1:2),-(1:2)]),1:2,as.numeric))\n",
    "dates=as.Date(\"2020-1-13\")+1:nrow(counts)-1\n",
    "dailydata=cbind(dates,as.data.frame(counts))\n",
    "rownames(dailydata)=dailydata[,1]\n",
    "colnames(dailydata)=c(\"date\",as.character(countrynames))\n",
    "\n",
    "# get dates of last reported case for each country\n",
    "latestdates=data.frame(countrynames,latestdate=as.Date(apply(dailydata[,-1],2,function(x){\n",
    "    lastreported=tail(which(!(x %in% NA)),1)\n",
    "    as.character(dailydata[lastreported,1])\n",
    "})))\n",
    "\n",
    "# get the number of cases within the buffer period\n",
    "bufferdays=seq(currdate-buffer,currdate,by=\"days\")\n",
    "ongoingbranches=colSums(dailydata[as.character(bufferdays),-1],na.rm=T)\n",
    "\n",
    "# reorder latestdates and ongoingbranches according to WHO data\n",
    "latestdates_WHO=latestdates[rownames(WHO_data),2]\n",
    "ongoingbranches_WHO=ongoingbranches[rownames(WHO_data)]\n",
    "WHO_data=cbind(WHO_data,latestdate=latestdates_WHO,ongoingbranches=ongoingbranches_WHO)\n",
    "head(WHO_data)"
   ]
  },
  {
   "cell_type": "code",
   "execution_count": 3,
   "metadata": {},
   "outputs": [],
   "source": [
    "# label countries with/without cases in the last (buffer) days\n",
    "isextinct=WHO_data$latestdate<currdate-buffer\n",
    "icases=WHO_data$Imported\n",
    "lcases=WHO_data$Local\n",
    "ocases=WHO_data$ongoingbranches"
   ]
  },
  {
   "cell_type": "code",
   "execution_count": 12,
   "metadata": {},
   "outputs": [],
   "source": [
    "# cluster size inference\n",
    "# for extinct clusters\n",
    "llextinct<-function(icases,lcases,R0,k){\n",
    "    if(length(icases)==0)return(0)\n",
    "    tcases=lcases+icases\n",
    "    lls=log(k)+log(icases)-log((k+1)*tcases-icases)+lchoose((k+1)*tcases-icases,tcases-icases)+(tcases-icases)*(log(R0)-log(k))-((k+1)*tcases-icases)*log(1+R0/k)\n",
    "    sum(lls,na.rm=T)\n",
    "}\n",
    "\n",
    "# only use the number as the lower bound of cluster size for ongoing countries\n",
    "lltruncate<-function(icases,lcases,R0,k){\n",
    "    if(length(icases)==0) return(0)\n",
    "    ll=0\n",
    "    for(i in 1:length(icases)){\n",
    "        prob=1\n",
    "        if(icases[i]==0||lcases[i]==0)next\n",
    "        for(x in 0:(lcases[i]-1)){\n",
    "            prob=prob-exp(llextinct(icases[i],x,R0,k))\n",
    "        }\n",
    "        if(!is.nan(prob))ll=ll+log(max(0,prob))\n",
    "    }\n",
    "    return(ll)\n",
    "}\n",
    "\n",
    "# use the info of cases before the buffer period\n",
    "llongoing<-function(icases,lcases,ocases,R0,k){\n",
    "    if(length(icases)==0)return(0)\n",
    "    tcases=lcases+icases\n",
    "    lls=log(k)+log(icases)-log((k+1)*tcases-icases)+lchoose((k+1)*tcases-icases,tcases-icases)+(tcases-icases)*(log(R0)-log(k))-((k+1)*tcases-icases)*log(1+R0/k)\n",
    "    #adjust for ongoing branches\n",
    "    lls=lls-dnbinom(0,k,mu=R0,log=T)*ocases+lchoose(tcases,ocases)\n",
    "    sum(lls,na.rm=T)\n",
    "}\n",
    "\n",
    "# Approach 1\n",
    "lltotal1<-function(R0invk,icases,lcases,isextinct){\n",
    "    R0=R0invk[1];k=1/R0invk[2]\n",
    "    llextinct(icases[isextinct],lcases[isextinct],R0,k)+lltruncate(icases[!isextinct],lcases[!isextinct],R0,k)\n",
    "}\n",
    "lltotal1_R0<-function(invk,icases,lcases,isextinct,R0){\n",
    "    k=1/invk\n",
    "    llextinct(icases[isextinct],lcases[isextinct],R0,k)+lltruncate(icases[!isextinct],lcases[!isextinct],R0,k)\n",
    "}\n",
    "\n",
    "# Approach 2\n",
    "lltotal2<-function(R0invk,icases,lcases,ocases,isextinct){\n",
    "    R0=R0invk[1];k=1/R0invk[2]\n",
    "    llextinct(icases[isextinct],lcases[isextinct],R0,k)+llongoing(icases[!isextinct],lcases[!isextinct],ocases[!isextinct],R0,k)\n",
    "}\n",
    "lltotal2_R0<-function(invk,icases,lcases,ocases,isextinct,R0){\n",
    "    k=1/invk\n",
    "    llextinct(icases[isextinct],lcases[isextinct],R0,k)+llongoing(icases[!isextinct],lcases[!isextinct],ocases[!isextinct],R0,k)\n",
    "}"
   ]
  },
  {
   "cell_type": "code",
   "execution_count": 5,
   "metadata": {},
   "outputs": [
    {
     "data": {
      "text/html": [
       "TRUE"
      ],
      "text/latex": [
       "TRUE"
      ],
      "text/markdown": [
       "TRUE"
      ],
      "text/plain": [
       "[1] TRUE"
      ]
     },
     "metadata": {},
     "output_type": "display_data"
    },
    {
     "data": {
      "text/html": [
       "TRUE"
      ],
      "text/latex": [
       "TRUE"
      ],
      "text/markdown": [
       "TRUE"
      ],
      "text/plain": [
       "[1] TRUE"
      ]
     },
     "metadata": {},
     "output_type": "display_data"
    },
    {
     "data": {
      "text/html": [
       "TRUE"
      ],
      "text/latex": [
       "TRUE"
      ],
      "text/markdown": [
       "TRUE"
      ],
      "text/plain": [
       "[1] TRUE"
      ]
     },
     "metadata": {},
     "output_type": "display_data"
    }
   ],
   "source": [
    "# Test block\n",
    "R0=runif(100,0,5);k=runif(100,0,5)\n",
    "# llextinct: equals negbinom when x==s\n",
    "all.equal(dnbinom(0,k,mu=R0,log=T),sapply(1:length(R0),function(x){llextinct(1,0,R0[x],k[x])}))\n",
    "# lltruncate: sum up to (almost) 1 when R0<<1\n",
    "R0fix=runif(30)/2;k=runif(30,0,5)\n",
    "lls=sapply(1:length(R0fix),function(x){lltruncate(sample(1:5,1),3e4,R0fix[x],k[x])})\n",
    "all.equal(exp(lls),numeric(length(R0fix)))\n",
    "# llongoing: 0 if local case==0 and ongoing case==imported case\n",
    "k=runif(100,0,5)\n",
    "ic=sample(1:length(R0),length(R0))\n",
    "all.equal(llongoing(ic,0,ic,R0,k),0)"
   ]
  },
  {
   "cell_type": "code",
   "execution_count": 10,
   "metadata": {},
   "outputs": [
    {
     "data": {
      "image/png": "[encoded data removed]",
      "text/plain": [
       "plot without title"
      ]
     },
     "metadata": {},
     "output_type": "display_data"
    },
    {
     "data": {
      "image/png": "[encoded data removed]",
      "text/plain": [
       "plot without title"
      ]
     },
     "metadata": {},
     "output_type": "display_data"
    }
   ],
   "source": [
    "###### Optimise\n",
    "#opt=optim(fn=lltotal,par=c(1,1),method=\"L-BFGS\",lower=c(1e-2,1e-2),upper=c(10,10),icases=icases,lcases=lcases,isextinct=isextinct,control=list(fnscale=-1))\n",
    "estimatek_truncate<-function(R0){\n",
    "    opt=optim(fn=lltotal1_R0,par=1,method=\"Brent\",lower=0,upper=500,icases=icases,lcases=lcases,isextinct=isextinct,R0=R0,control=list(fnscale=-1,trace=1))\n",
    "    c(1/opt$par,opt$value)\n",
    "}\n",
    "estimatek_ongoing<-function(R0){\n",
    "    opt=optim(fn=lltotal2_R0,par=1,method=\"Brent\",lower=0,upper=500,icases=icases,lcases=lcases,ocases=ocases,isextinct=isextinct,R0=R0,control=list(fnscale=-1,trace=1))\n",
    "    c(1/opt$par,opt$value)\n",
    "}\n",
    "R0s=seq(0.1,5,0.1)\n",
    "k_est1=suppressWarnings(sapply(R0s,estimatek_truncate))\n",
    "plot(x=R0s,y=k_est1[1,],ylim=c(0,0.1),type=\"o\",pch=19,xlab=\"reproduction number\",ylab=\"overdispersion\")\n",
    "#par(new=T);plot(k_est[2,],ylim=c(-50,0))\n",
    "\n",
    "k_est2=suppressWarnings(sapply(R0s,estimatek_ongoing))\n",
    "plot(x=R0s,y=k_est2[1,],ylim=c(0,5),type=\"o\",pch=19)"
   ]
  },
  {
   "cell_type": "code",
   "execution_count": null,
   "metadata": {},
   "outputs": [],
   "source": [
    "# MCMC\n",
    "library(LaplacesDemon)\n",
    "Data=Data=list(N=13,mon.names=c(\"nlogl\",\"R0\"),parm.names=\"overdispersion k\",R0=1,icases=icases,lcases=lcases,ocases=ocases,isextinct=isextinct)\n",
    "Model1=function(parm,Data){\n",
    "    invk=interval(parm,0)\n",
    "    ll=lltotal1_R0(invk,Data$icases,Data$lcases,Data$isextinct,Data$R0)\n",
    "    return(list(LP=ll,Dev=-2*ll,Monitor=c(ll,Data$R0),yhat=NULL,parm=invk))\n",
    "}\n",
    "Model2=function(parm,Data){\n",
    "    invk=interval(parm,0)\n",
    "    ll=lltotal2_R0(invk,Data$icases,Data$lcases,Data$ocases,Data$isextinct,Data$R0)\n",
    "    return(list(LP=ll,Dev=-2*ll,Monitor=c(ll,Data$R0),yhat=NULL,parm=invk))\n",
    "}\n",
    "#fit<-LaplacesDemon(Model=Model,Data=Data,Initial.Values=1,Covar=NULL,Iterations=10000,Status=1000,Thinning=10,Algorithm='HARM',Specs=NULL)\n",
    "\n",
    "R0s=1:25/5\n",
    "niter=1000\n",
    "mcmcfits=sapply(R0s,function(R0){\n",
    "    Data$R0=R0\n",
    "    fit=LaplacesDemon(Model=Model1,Data=Data,Initial.Values=1,Covar=NULL,Iterations=niter,Status=niter,Thinning=10,Algorithm='HARM',Specs=list(alpha.star=0.23,B=NULL))\n",
    "})\n",
    "k_mcmc1=sapply(mcmcfits,function(x){x$Posterior1[(niter%/%20):(niter%/%10)]})\n",
    "ll_mcmc1=sapply(mcmcfits,function(x){x$Posterior1[(niter%/%20):(niter%/%10)]})          \n",
    "#k_est2=sapply(R0s,function(R0){\n",
    "#    Data$R0=R0\n",
    "#    fit=LaplacesDemon(Model=Model2,Data=Data,Initial.Values=1,Covar=NULL,Iterations=niter,Status=niter,Thinning=10,Algorithm='HARM',Specs=list(alpha.star=0.23,B=NULL))\n",
    "#    fit$Posterior1[(niter%/%20):(niter%/%10)]\n",
    "#})"
   ]
  },
  {
   "cell_type": "code",
   "execution_count": 48,
   "metadata": {},
   "outputs": [
    {
     "data": {
      "image/png": "[encoded data removed]",
      "text/plain": [
       "plot without title"
      ]
     },
     "metadata": {},
     "output_type": "display_data"
    }
   ],
   "source": [
    "# Plot\n",
    "med=apply(k_est1,2,median)\n",
    "cri=apply(k_est1,2,function(x){quantile(x,c(0.025,0.975))})\n",
    "plot(x=R0s,y=med,xlim=c(0,5),ylim=c(0,0.5),type=\"l\",xlab=\"R0\",ylab=\"overdispersion\")\n",
    "polygon(x=c(R0s,rev(R0s)),y=c(cri[1,],rev(cri[2,])),lty=0,col=rgb(0,0,0,0.1))"
   ]
  },
  {
   "cell_type": "code",
   "execution_count": 46,
   "metadata": {},
   "outputs": [
    {
     "name": "stdout",
     "output_type": "stream",
     "text": [
      "\n",
      "Laplace's Demon was called on Wed Feb 26 17:59:16 2020\n",
      "\n",
      "Performing initial checks...\n",
      "Algorithm: Hit-And-Run Metropolis \n",
      "\n",
      "Laplace's Demon is beginning to update...\n",
      "\n",
      "WARNING: Proposal resulted in non-finite value(s).\n",
      "  Iteration: 14 Proposal:\n",
      " c(0.479797913148782,0.768802326608335) \n",
      "\n",
      "WARNING: Proposal resulted in non-finite value(s).\n",
      "  Iteration: 15 Proposal:\n",
      " c(-0.154856338816527,0.805961477550086) \n",
      "\n",
      "WARNING: Proposal resulted in non-finite value(s).\n",
      "  Iteration: 30 Proposal:\n",
      " c(0.453627196030345,2.2702892052942) \n",
      "\n",
      "WARNING: Proposal resulted in non-finite value(s).\n",
      "  Iteration: 68 Proposal:\n",
      " c(0.101421514661351,4.92170238211162) \n",
      "\n",
      "WARNING: Proposal resulted in non-finite value(s).\n",
      "  Iteration: 69 Proposal:\n",
      " c(0.097403670925914,6.02979573231696) \n",
      "\n",
      "WARNING: Proposal resulted in non-finite value(s).\n",
      "  Iteration: 87 Proposal:\n",
      " c(0.195380693817257,13.2151158441521) \n",
      "\n",
      "WARNING: Proposal resulted in non-finite value(s).\n",
      "  Iteration: 97 Proposal:\n",
      " c(-0.190101881801742,11.5606833827604) \n",
      "\n",
      "WARNING: Proposal resulted in non-finite value(s).\n",
      "  Iteration: 99 Proposal:\n",
      " c(-0.0992938321841439,12.377753241593) \n",
      "\n",
      "WARNING: Proposal resulted in non-finite value(s).\n",
      "  Iteration: 116 Proposal:\n",
      " c(-0.223207973020654,13.6332592087964) \n",
      "\n",
      "WARNING: Proposal resulted in non-finite value(s).\n",
      "  Iteration: 161 Proposal:\n",
      " c(0.209430270057254,9.82964780244369) \n",
      "\n",
      "WARNING: Proposal resulted in non-finite value(s).\n",
      "  Iteration: 302 Proposal:\n",
      " c(0.185309394810876,12.0655324510708) \n",
      "Iteration: 1000,   Proposal: Multivariate,   LP: -29.6\n",
      "Iteration: 2000,   Proposal: Multivariate,   LP: -32.3\n",
      "Iteration: 3000,   Proposal: Multivariate,   LP: -34.7\n",
      "Iteration: 4000,   Proposal: Multivariate,   LP: -30.6\n",
      "Iteration: 5000,   Proposal: Multivariate,   LP: -32.2\n",
      "Iteration: 6000,   Proposal: Multivariate,   LP: -31.9\n",
      "Iteration: 7000,   Proposal: Multivariate,   LP: -34.2\n",
      "Iteration: 8000,   Proposal: Multivariate,   LP: -33.3\n",
      "Iteration: 9000,   Proposal: Multivariate,   LP: -33\n",
      "Iteration: 10000,   Proposal: Multivariate,   LP: -32.8\n",
      "\n",
      "Assessing Stationarity\n",
      "Assessing Thinning and ESS\n",
      "Creating Summaries\n",
      "Estimating Log of the Marginal Likelihood\n",
      "\n",
      "WARNING: At least 301 samples are required for NSIS in LML.\n",
      "Creating Output\n",
      "\n",
      "Laplace's Demon has finished.\n",
      "\n",
      "Laplace's Demon was called on Wed Feb 26 17:59:38 2020\n",
      "\n",
      "Performing initial checks...\n",
      "Generating initial values due to a non-finite posterior.\n",
      "\n",
      "WARNING: Acceptable initial values were not generated.\n"
     ]
    },
    {
     "ename": "ERROR",
     "evalue": "Error in if (any(x < a) | any(x > b)) {: missing value where TRUE/FALSE needed\n",
     "output_type": "error",
     "traceback": [
      "Error in if (any(x < a) | any(x > b)) {: missing value where TRUE/FALSE needed\nTraceback:\n",
      "1. LaplacesDemon(Model = Model_joint2, Data = Data, Initial.Values = c(1, \n .     1), Covar = NULL, Iterations = niter, Status = niter%/%10, \n .     Thinning = 10, Algorithm = \"HARM\", Specs = list(alpha.star = 0.23, \n .         B = NULL))",
      "2. Model(Initial.Values, Data)",
      "3. interval(parm, 0)   # at line 9 of file <text>"
     ]
    }
   ],
   "source": [
    "# Joint estimation\n",
    "Data=Data=list(N=13,mon.names=c(\"nlogl\",\"R0\"),parm.names=c(\"R0\",\"k\"),icases=icases,lcases=lcases,ocases=ocases,isextinct=isextinct)\n",
    "Model_joint1=function(parm,Data){\n",
    "    parm=interval(parm,0)\n",
    "    ll=lltotal1(parm,Data$icases,Data$lcases,Data$isextinct)\n",
    "    return(list(LP=ll,Dev=-2*ll,Monitor=c(ll,0),yhat=NULL,parm=parm))\n",
    "}\n",
    "Model_joint2=function(parm,Data){\n",
    "    parm=interval(parm,0)\n",
    "    ll=lltotal2(parm,Data$icases,Data$lcases,Data$ocases,Data$isextinct)\n",
    "    return(list(LP=ll,Dev=-2*ll,Monitor=c(ll,0),yhat=NULL,parm=parm))\n",
    "}\n",
    "#fit<-LaplacesDemon(Model=Model,Data=Data,Initial.Values=1,Covar=NULL,Iterations=10000,Status=1000,Thinning=10,Algorithm='HARM',Specs=NULL)\n",
    "niter=10000\n",
    "fit1=LaplacesDemon(Model=Model_joint1,Data=Data,Initial.Values=c(1,1),Covar=NULL,Iterations=niter,Status=niter%/%10,Thinning=10,Algorithm='HARM',Specs=list(alpha.star=0.23,B=NULL))\n",
    "fit2=LaplacesDemon(Model=Model_joint2,Data=Data,Initial.Values=c(1,1),Covar=NULL,Iterations=niter,Status=niter%/%10,Thinning=10,Algorithm='HARM',Specs=list(alpha.star=0.23,B=NULL))\n"
   ]
  },
  {
   "cell_type": "code",
   "execution_count": 47,
   "metadata": {},
   "outputs": [
    {
     "data": {
      "image/png": "[encoded data removed]",
      "text/plain": [
       "plot without title"
      ]
     },
     "metadata": {},
     "output_type": "display_data"
    }
   ],
   "source": [
    "pairs(fit1$Posterior1[,1:2])"
   ]
  },
  {
   "cell_type": "code",
   "execution_count": null,
   "metadata": {},
   "outputs": [],
   "source": []
  }
 ],
 "metadata": {
  "jupytext": {
   "formats": "ipynb,Rmd"
  },
  "kernelspec": {
   "display_name": "R",
   "language": "R",
   "name": "ir"
  },
  "language_info": {
   "codemirror_mode": "r",
   "file_extension": ".r",
   "mimetype": "text/x-r-source",
   "name": "R",
   "pygments_lexer": "r",
   "version": "3.6.1"
  }
 },
 "nbformat": 4,
 "nbformat_minor": 4
}
