{
 "cells": [
  {
   "cell_type": "markdown",
   "metadata": {},
   "source": [
    "# 2019-nCoV outbreak analysis\n",
    "\n",
    "## Background\n",
    "A novel coronavirus (2019-nCoV) outbreak has been continuing in China, while a few imported cases are observed in the neighbouring countries. Although the spread across China suggests a certain amount of human-to-human transmisison, there has not been any observed in those countries which saw travel cases. This suggests that not all symptomatic cases lead to a secondary transmission, which was also the case in the past SARS/MERS outbreaks. Furthermore, even if any subclinical cases had been imported into these countries undetected, at least such cases did not contributed to secondary transmissions from which a detectable case originates.\n"
   ]
  },
  {
   "cell_type": "markdown",
   "metadata": {},
   "source": [
    "## Model\n",
    "Let $S_i$ and $C_i$ be the dates of symptom onset and reporting of nCoV case $i$ outside China.\n",
    "Let $q_i$ be the symptomatic ratio of nCoV infection (potentially specific to individual $i$) and $g(\\tau)$ be the distribution of the generation time (i.e. time between the linked infection pairs) of nCoV.\n",
    "$$\n",
    "\n",
    "$$"
   ]
  },
  {
   "cell_type": "markdown",
   "metadata": {},
   "source": [
    "## Precompute transmission chains"
   ]
  },
  {
   "cell_type": "code",
   "execution_count": 1,
   "metadata": {},
   "outputs": [
    {
     "data": {
      "text/plain": [
       "nbcluster (generic function with 2 methods)"
      ]
     },
     "execution_count": 1,
     "metadata": {},
     "output_type": "execute_result"
    }
   ],
   "source": [
    "using Distributions\n",
    "using StatsFuns\n",
    "function branch!(timeseries::Vector{<:Real},branchdist,gtimedist,atleastone=false)\n",
    "    for t in 1:length(timeseries)\n",
    "        if timeseries[t]==0 continue end\n",
    "        \n",
    "        # count secondary infections\n",
    "        if typeof(branchdist)<:NegativeBinomial\n",
    "            sumbranchdist=NegativeBinomial(params(nb)[1]*timeseries[t],params(nb)[2])\n",
    "            newinfs=rand(sumbranchdist)\n",
    "        else\n",
    "            newinfs=sum(rand(branchdist) for n in 1:timeseries[t])\n",
    "        end\n",
    "        \n",
    "        # if conditioned that infections ≧ 1\n",
    "        if atleastone\n",
    "            newinfs+=1\n",
    "            atleastone=false\n",
    "        end\n",
    "        \n",
    "        # switch to deterministic model if > 10000 new infections\n",
    "        if newinfs>10000\n",
    "            timeseries[t+1:end].+=newinfs*diff(cdf.(gtimedist,0:length(timeseries)-t))\n",
    "        else\n",
    "        \n",
    "        # distribute on timeseries\n",
    "        for inf in 1:newinfs\n",
    "            tnextgen=t+ceil(Int,rand(gtimedist))\n",
    "            if tnextgen<=length(timeseries)\n",
    "                timeseries[tnextgen]+=1 end\n",
    "            end\n",
    "        end\n",
    "        timeseries[t]=round(timeseries[t])\n",
    "    end\n",
    "end\n",
    "# clusters generator\n",
    "function nbcluster(nsample,branchdist,gtimedist,tlen,seed=1)\n",
    "    logpsolo=logpdf(branchdist,0)*seed\n",
    "    \n",
    "    # generate chains conditioned that secondary infections ≧ 1\n",
    "    clusters=[zeros(Float64,tlen) for i in 1:nsample]\n",
    "    setindex!.(clusters,1,1)\n",
    "    branch!.(clusters,branchdist,gtimedist,true)\n",
    "    return((logpsolo=logpsolo,samples=clusters))\n",
    "end"
   ]
  },
  {
   "cell_type": "code",
   "execution_count": 9,
   "metadata": {},
   "outputs": [
    {
     "name": "stdout",
     "output_type": "stream",
     "text": [
      "  1.225546 seconds (9.10 M allocations: 510.890 MiB)\n"
     ]
    }
   ],
   "source": [
    "NBmu(mu,k)=NegativeBinomial(k,mu/(mu+k))\n",
    "Gmusd(mu,sd)=Gamma(mu^2/sd^2, sd^2/mu)\n",
    "\n",
    "nb=NBmu(2,1)\n",
    "gt=Gmusd(7,1)\n",
    "\n",
    "murange=0.05:0.1:1\n",
    "krange=0.05:0.1:2\n",
    "@time clustersamples=[nbcluster(1000,NBmu(mu,k),gt,180,1) for mu in murange for k in krange];"
   ]
  },
  {
   "cell_type": "markdown",
   "metadata": {},
   "source": [
    "## Conditional sampling"
   ]
  },
  {
   "cell_type": "code",
   "execution_count": null,
   "metadata": {},
   "outputs": [],
   "source": []
  }
 ],
 "metadata": {
  "jupytext": {
   "formats": "ipynb,jl:light"
  },
  "kernelspec": {
   "display_name": "Julia 1.2.0",
   "language": "julia",
   "name": "julia-1.2"
  },
  "language_info": {
   "file_extension": ".jl",
   "mimetype": "application/julia",
   "name": "julia",
   "version": "1.2.0"
  }
 },
 "nbformat": 4,
 "nbformat_minor": 4
}
