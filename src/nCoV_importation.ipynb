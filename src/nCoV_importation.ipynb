{
 "cells": [
  {
   "cell_type": "markdown",
   "metadata": {},
   "source": [
    "# 2019-nCoV outbreak analysis\n",
    "\n",
    "## Background\n",
    "A novel coronavirus (2019-nCoV) outbreak has been continuing in China, while a few imported cases are observed in the neighbouring countries. Although the spread across China suggests a certain amount of human-to-human transmisison, there has not been any observed in those countries which saw travel cases. This suggests that not all symptomatic cases lead to a secondary transmission, which was also the case in the past SARS/MERS outbreaks. Furthermore, even if any subclinical cases had been imported into these countries undetected, at least such cases did not contributed to secondary transmissions from which a detectable case originates.\n"
   ]
  },
  {
   "cell_type": "markdown",
   "metadata": {},
   "source": [
    "## Model\n",
    "Let $J_t$ and $I_t$ be the incidence of imported and local cases of nCoV detected in a country outside China.\n",
    "Let $q_t$ be the (potentially time-dependent) detection probability of nCoV infection, which is understood as the combination of both symptomatic ratio and proper reporting, and $s_\\tau$ be the distribution of the serial interval (i.e. time between the linked infection pairs) of nCoV.\n",
    "\n",
    "Assuming that the risk of importing an nCoV case follows an exponential hazard function, reflecting an ongoing outbreak in China as of February 2020, the overall (including those undetected) number of imported cases $j_t$ is given as \n",
    "$$\n",
    "j_t\\sim \\mathrm{Pois}(\\lambda_t), \\\\\n",
    "\\lambda_t=\\lambda_0\\exp(r t)\n",
    "$$\n",
    "\n",
    "We model the offspring distribution of nCoV by a negative binomial distribution $\\mathrm{NB}\\left(k,\\frac{k}{R_0+k}\\right)$, where $R$ is the mean (i.e. the basic reproduction number) and $k$ is the overdispersion parameter. The reproductive property of the negative binomial distriubution assures that the number of secondary infections caused by the overall infector at time $t$ follows $\\mathrm{NB}\\left(k(i_t+j_t),\\frac{k}{R_0+k}\\right)$, and we assume these offsprings are distributed on the timeline $t$ according to the serial interval distribution $s_\\tau$.\n",
    "\n",
    "The renewal process is thus represented as\n",
    "$$\n",
    "i_t \\sim \\sum_{\\tau=1}^\\infty \\mathrm{Binom}\\left(\\mathrm{NB}\\left(k(i_{t-\\tau}+j_{t-\\tau}),\\frac{k}{R_0+k}\\right),s_\\tau \\right).\n",
    "$$\n",
    "Note here that the sum of distributions denotes the distribution of the summed probabilistic variables.\n",
    "\n",
    "The observation of cases is assumed to follow the binomial sampling:\n",
    "$$\n",
    "I_t\\sim \\mathrm{Binom}(i_t,q_t), \\\\\n",
    "J_t\\sim \\mathrm{Binom}(j_t,q_t)\n",
    "$$"
   ]
  },
  {
   "cell_type": "markdown",
   "metadata": {},
   "source": [
    "## Setups"
   ]
  },
  {
   "cell_type": "code",
   "execution_count": 2,
   "metadata": {},
   "outputs": [
    {
     "name": "stderr",
     "output_type": "stream",
     "text": [
      "┌ Info: Recompiling stale cache file C:\\Users\\aendo\\.julia\\compiled\\v1.2\\Mamba\\y2fzO.ji for Mamba [5424a776-8be3-5c5b-a13f-3551f69ba0e6]\n",
      "└ @ Base loading.jl:1240\n"
     ]
    },
    {
     "data": {
      "text/plain": [
       "Main.DSI.DiscreteSerialInterval{NamedTuple{(:α, :θ),Tuple{Float64,Float64}},Float64,Gamma{Float64}}((α = 5.444444444444445, θ = 1.2857142857142858), Gamma{Float64}(α=5.444444444444445, θ=1.2857142857142858), [0.0005090265745736892, 0.011185418969868853, 0.04518259380291901, 0.09106044540668587, 0.12753328120709587, 0.14311810928392243, 0.13843667928402126, 0.12039594815119048, 0.09666910020485897, 0.07294144561749683  …  0.0, 0.0, 0.0, 0.0, 0.0, 0.0, 0.0, 0.0, 0.0, 0.0])"
      ]
     },
     "execution_count": 2,
     "metadata": {},
     "output_type": "execute_result"
    }
   ],
   "source": [
    "# Packages\n",
    "using Mamba, Distributions\n",
    "# Constants\n",
    "const tlen=180\n",
    "\n",
    "# Distributions\n",
    "NBmu(mu,k)=NegativeBinomial(k,mu/(mu+k))\n",
    "Gmusd(mu,sd)=Gamma(mu^2/sd^2, sd^2/mu)\n",
    "module DSI\n",
    "using Distributions\n",
    "struct DiscreteSerialInterval{T<:NamedTuple,F<:AbstractFloat, D<:Distribution}\n",
    "    params::T; dist::D; distvec::Vector{F}\n",
    "end\n",
    "end\n",
    "function DSIconstruct(distconstructor,params,tlen)\n",
    "    dist=distconstructor(params...)\n",
    "    distvec=cdf.(dist,0:tlen) |> diff\n",
    "    DSI.DiscreteSerialInterval(params,dist,distvec)\n",
    "end\n",
    "SIparams=(μ=7.0,σ=3.0)\n",
    "SIdist=Gmusd(SIparams...)\n",
    "serialint=DSIconstruct(Gamma,NamedTuple{(:α,:θ)}(params(SIdist)),tlen)"
   ]
  },
  {
   "cell_type": "markdown",
   "metadata": {},
   "source": [
    "## Simulation functions"
   ]
  },
  {
   "cell_type": "code",
   "execution_count": 41,
   "metadata": {},
   "outputs": [
    {
     "data": {
      "text/plain": [
       "importcluster (generic function with 1 method)"
      ]
     },
     "execution_count": 41,
     "metadata": {},
     "output_type": "execute_result"
    }
   ],
   "source": [
    "using Distributions, StatsFuns, StatsBase\n",
    "function importandbranch!(cases::NamedTuple{(:imported,:loc,:infness,:hazard),NTuple{4,Vector{R}}} where R<:Real,importhazard,nbparm,gtimevec,atleastone=false)\n",
    "    for t in 1:length(cases.loc)\n",
    "        if sum(vec[t] for vec in cases)+importhazard[t] == 0 continue end\n",
    "        \n",
    "        # draw cases\n",
    "        cases.imported[t]+=rand(Poisson(importhazard[t]))\n",
    "        cases.loc[t]+=rand(Poisson(cases.hazard[t]))\n",
    "        currinfs=cases.imported[t]+cases.loc[t]\n",
    "        \n",
    "        # draw gamma: total offsprings\n",
    "        if currinfs!=0\n",
    "            α,θ=nbparm\n",
    "            cases.infness[t]=rand(Gamma(α*currinfs,θ))\n",
    "            #distribute infness on timeline\n",
    "            cases.hazard[t+1:end].+=cases.infness[t].*gtimevec[1:length(cases.loc)-t]\n",
    "            else cases.infness[t]=0.0\n",
    "        end\n",
    "        \n",
    "        # if conditioned that infections ≧ 1\n",
    "        if atleastone\n",
    "            plusoneat=t+ceil(Int,sample(1:length(gtimevec),Weights(gtimevec)))\n",
    "            if plusoneat<=length(cases.loc) cases.loc[plusoneat]+=1 end\n",
    "            atleastone=false\n",
    "        end\n",
    "    end\n",
    "end\n",
    "# clusters generator\n",
    "function nbcluster(nsample,branchdist,gtimedist,tlen,seed=1)\n",
    "    logpsolo=logpdf(branchdist,0)*seed\n",
    "    \n",
    "    # generate chains conditioned that secondary infections ≧ 1\n",
    "    clusters=[zeros(Float64,tlen) for i in 1:nsample]\n",
    "    setindex!.(clusters,1,1)\n",
    "    branch!.(clusters,branchdist,gtimedist,true)\n",
    "    return((logpsolo=logpsolo,samples=clusters))\n",
    "end\n",
    "\n",
    "function importcluster(nsample,branchdist,gtimedist,tlen,importhazard)\n",
    "    labels=(:imported,:loc,:infness,:hazard)\n",
    "    samples=[NamedTuple{labels}(collect((zeros(Float64,tlen) for j in 1:4))) for i in 1:nsample]\n",
    "    gtimevec=diff(cdf.(gtimedist,0:tlen))\n",
    "    importandbranch!.(samples,Ref(importhazard),Ref(params(branchdist)),Ref(gtimevec))\n",
    "    return(samples)\n",
    "end"
   ]
  },
  {
   "cell_type": "code",
   "execution_count": 68,
   "metadata": {},
   "outputs": [
    {
     "name": "stdout",
     "output_type": "stream",
     "text": [
      "  0.013050 seconds (53.46 k allocations: 4.355 MiB)\n"
     ]
    }
   ],
   "source": [
    "# test simulation run\n",
    "nb=NBmu(2,3)\n",
    "gt=Gmusd(7,1)\n",
    "R0=2\n",
    "k=0.5\n",
    "λ0=0.02\n",
    "r=0.01\n",
    "\n",
    "importhazard=[λ0*exp(r*t) for t in 1:tlen]\n",
    "@time clustersamples=importcluster(100,NBmu(2,1),gt,tlen,importhazard);"
   ]
  },
  {
   "cell_type": "markdown",
   "metadata": {},
   "source": [
    "## MCMC sampling"
   ]
  },
  {
   "cell_type": "code",
   "execution_count": 11,
   "metadata": {},
   "outputs": [],
   "source": [
    "# unknown variables: λ, i, j, R₀, k, q\n",
    "parms=Dict{Symbol,Any}(\n",
    "    :λ₀=>[0.1],\n",
    "    :r=>[0.1],\n",
    "    :R₀=>[1.0],\n",
    "    :k=>[0.5],\n",
    "    :q=>ones(float64,tlen)\n",
    ")\n",
    "priors=Dict{Symbol,Any}()\n",
    "for parname in keys(parms)\n",
    "    priors[parname]=Stochastic(1,()->Uniform(0,5))\n",
    "end\n",
    "priors[:q]=Stochastic(1,()->Uniform(0,1))\n",
    "\n",
    "inputs=Dict{Symbol,Any}(\n",
    "    :SI=serialint\n",
    "    :casedata=casedata\n",
    "    :zerotrick=0.0\n",
    ")\n",
    "\n",
    "inits=copy(parms)\n",
    "inits=[inits]\n",
    "\n",
    "model=Model(\n",
    "    j=Stochastic(1,\n",
    "        (λ₀,r,q)->Poisson.(λ₀*exp.(r.*(1:tlen))) #conditioned to J: Gibbs\n",
    "    ),\n",
    "    i=Stochastic(1,\n",
    "        (j,R₀,k)->0.0# NegativeBinomial.(j.*k,k/(R₀+k)): renewal process\n",
    "    ),\n",
    "    \n",
    "    llcase=Logical(\n",
    "        ()->0.0\n",
    "        , false\n",
    "    ),\n",
    "    llctrl=Logical(\n",
    "        (hhCtrl_i,hhCtrl_n,Λc,βh)->begin\n",
    "            Rmat=fill(βh[5],5,5)\n",
    "            Rmat[1:2,1:2].=βh[1]\n",
    "            Rmat[3:4,3:4].=βh[2]\n",
    "            Rmat[4,1:2]=Rmat[1:2,4].=βh[3]\n",
    "            Rmat[5,5]=βh[4]\n",
    "            global counter+=1\n",
    "            global chk=(Rmat,Λc,βh)\n",
    "            if(counter%100==0) println(counter) end\n",
    "            return(hetLK.ll(hhCtrl_i,hhCtrl_n,Λc.value,Rmat,0.5))\n",
    "        end\n",
    "        , false\n",
    "    ),\n",
    "    lltotal=Logical((llcase,llctrl,invtemp)->(llcase+llctrl)*invtemp),\n",
    "    pseudodata=Stochastic((lltotal)->mb.LogPosterior(lltotal.value),false),\n",
    "    exnodes...\n",
    ")\n",
    "global counter=0\n",
    "setsamplers!(model,[AMM(collect(keys(parms)),Matrix{Float64}(I,10,10).*0.001)])\n",
    "sim1 = mcmc(model, inputs, inits, 3000, burnin=2000, thin=2, chains=1)"
   ]
  },
  {
   "cell_type": "code",
   "execution_count": null,
   "metadata": {},
   "outputs": [],
   "source": []
  }
 ],
 "metadata": {
  "jupytext": {
   "formats": "ipynb,jl:light"
  },
  "kernelspec": {
   "display_name": "Julia 1.2.0",
   "language": "julia",
   "name": "julia-1.2"
  },
  "language_info": {
   "file_extension": ".jl",
   "mimetype": "application/julia",
   "name": "julia",
   "version": "1.2.0"
  }
 },
 "nbformat": 4,
 "nbformat_minor": 4
}
