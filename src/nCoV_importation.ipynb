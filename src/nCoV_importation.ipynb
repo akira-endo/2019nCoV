{
 "cells": [
  {
   "cell_type": "markdown",
   "metadata": {},
   "source": [
    "# 2019-nCoV outbreak analysis\n",
    "\n",
    "## Background\n",
    "A novel coronavirus (2019-nCoV) outbreak has been continuing in China, while a few imported cases are observed in the neighbouring countries. Although the spread across China suggests a certain amount of human-to-human transmisison, there has not been any observed in those countries which saw travel cases. This suggests that not all symptomatic cases lead to a secondary transmission, which was also the case in the past SARS/MERS outbreaks. Furthermore, even if any subclinical cases had been imported into these countries undetected, at least such cases did not contributed to secondary transmissions from which a detectable case originates.\n"
   ]
  },
  {
   "cell_type": "markdown",
   "metadata": {},
   "source": [
    "## Model\n",
    "Let $J_t$ and $I_t$ be the incidence of imported and local cases of nCoV detected in a country outside China.\n",
    "Let $q_t$ be the (potentially time-dependent) detection probability of nCoV infection, which is understood as the combination of both symptomatic ratio and proper reporting, and $s_\\tau$ be the distribution of the serial interval (i.e. time between the linked infection pairs) of nCoV.\n",
    "\n",
    "Assuming that the risk of importing an nCoV case follows an exponential hazard function, reflecting an ongoing outbreak in China as of February 2020, the overall (including those undetected) number of imported cases $j_t$ is given as \n",
    "$$\n",
    "j_t\\sim \\mathrm{Pois}(\\lambda_t), \\\\\n",
    "\\lambda_t=\\lambda_0\\exp(r t)\n",
    "$$\n",
    "\n",
    "We model the offspring distribution of nCoV by a negative binomial distribution $\\mathrm{NB}\\left(k,\\frac{k}{R_0+k}\\right)$, where $R$ is the mean (i.e. the basic reproduction number) and $k$ is the overdispersion parameter. The reproductive property of the negative binomial distriubution assures that the number of secondary infections caused by the overall infector at time $t$ follows $\\mathrm{NB}\\left(k(i_t+j_t),\\frac{k}{R_0+k}\\right)$, and we assume these offsprings are distributed on the timeline $t$ according to the serial interval distribution $s_\\tau$.\n",
    "\n",
    "The renewal process is thus represented as\n",
    "$$\n",
    "i_t \\sim \\sum_{\\tau=1}^\\infty \\mathrm{Binom}\\left(\\mathrm{NB}\\left(k(i_{t-\\tau}+j_{t-\\tau}),\\frac{k}{R_0+k}\\right),s_\\tau \\right).\n",
    "$$\n",
    "Note here that the sum of distributions denotes the distribution of the summed probabilistic variables.\n",
    "\n",
    "The observation of cases is assumed to follow the binomial sampling:\n",
    "$$\n",
    "I_t\\sim \\mathrm{Binom}(i_t,q_t), \\\\\n",
    "J_t\\sim \\mathrm{Binom}(j_t,q_t)\n",
    "$$"
   ]
  },
  {
   "cell_type": "markdown",
   "metadata": {},
   "source": [
    "# Data"
   ]
  },
  {
   "cell_type": "code",
   "execution_count": 334,
   "metadata": {},
   "outputs": [
    {
     "data": {
      "image/png": "[encoded data removed]",
      "text/plain": [
       "Figure(PyObject <Figure size 640x480 with 1 Axes>)"
      ]
     },
     "metadata": {},
     "output_type": "display_data"
    }
   ],
   "source": [
    "using DataFrames, Dates, PyPlot\n",
    "# Imported and local cases outside China\n",
    "# Source (accessed 4/2/2020): https://www.who.int/docs/default-source/coronaviruse/situation-reports/20200204-sitrep-15-ncov.pdf\n",
    "dates=Date(\"2019-12-31\"):Day(1):Date(\"2020-2-1\")\n",
    "china_hubei  =[1,0,0,2,0,1,0,0,0,1,1,0,0,1,2,0,3,3,1,3,3,7,3,9,6,8,5,4,3,3,4,1,0]\n",
    "china_unknown=[0,0,0,0,0,0,0,0,0,0,0,0,0,0,0,1,0,0,0,0,0,0,0,0,0,1,0,0,0,0,0,0,0]\n",
    "localcases   =[0,0,0,0,0,0,0,0,0,0,0,0,0,0,0,1,0,0,1,1,2,0,0,0,1,1,0,0,1,2,0,0,0]\n",
    "underinv     =[0,0,0,0,0,0,0,0,0,0,0,0,0,0,0,0,0,0,0,0,0,0,0,1,1,1,0,1,0,0,1,0,1]\n",
    "casedata=DataFrame([dates,china_hubei,china_unknown,localcases,u_inv], [:date,:china_hubei,:china_unknown,:loc,:underinv])\n",
    "barplots=PyPlot.bar.(Ref(1:length(casedata.date)),[Vector(casedata[:,c]) for c in 2:5],0.8,[cumsum(hcat(zeros(Int,length(casedata.date)),Matrix(casedata[:,2:5])),dims=2)[:,c] for c in 1:4])\n",
    "PyPlot.xticks(1:length(casedata.date),dates,rotation=\"vertical\")\n",
    "PyPlot.legend(getindex.(barplots,1),[\"China (Hubei)\",\"China(Location unknown)\",\"Locally acquired\",\"Under investigation\"]);"
   ]
  },
  {
   "cell_type": "code",
   "execution_count": 650,
   "metadata": {},
   "outputs": [
    {
     "data": {
      "text/plain": [
       "(imported = [0, 0, 0, 0, 0, 0, 0, 0, 0, 0  …  9, 5, 4, 3, 3, 4, 1, 0, 0, 0], loc = [0, 0, 0, 0, 0, 0, 0, 0, 0, 0  …  1, 0, 0, 1, 2, 0, 0, 0, 0, 0])"
      ]
     },
     "execution_count": 650,
     "metadata": {},
     "output_type": "execute_result"
    }
   ],
   "source": [
    "initdate=Date(\"2019-9-13\")\n",
    "# Possible (earliest bound of) the estimted start of the outbreak\n",
    "# Source: http://virological.org/t/preliminary-phylogenetic-analysis-of-11-ncov2019-genomes-2020-01-19/329\n",
    "timelines=initdate:Day(1):Date(\"2020-2-3\")\n",
    "const tlen=length(timelines)\n",
    "imported=zeros(Int,tlen)\n",
    "loc=zeros(Int,tlen)\n",
    "datesid=findall(x->x in dates,timelines)\n",
    "imported[datesid].=casedata.china_hubei.+casedata.china_unknown\n",
    "loc[datesid].=casedata.loc\n",
    "observed=(imported=imported,loc=loc)"
   ]
  },
  {
   "cell_type": "markdown",
   "metadata": {},
   "source": [
    "## Setups"
   ]
  },
  {
   "cell_type": "code",
   "execution_count": 551,
   "metadata": {},
   "outputs": [
    {
     "name": "stderr",
     "output_type": "stream",
     "text": [
      "WARNING: replacing module DSI.\n"
     ]
    },
    {
     "data": {
      "text/plain": [
       "discreteapproxsampler (generic function with 2 methods)"
      ]
     },
     "execution_count": 551,
     "metadata": {},
     "output_type": "execute_result"
    }
   ],
   "source": [
    "# Packages\n",
    "using Mamba, Distributions\n",
    "# Distributions\n",
    "NBmu(mu,k)=NegativeBinomial(k,mu/(mu+k))\n",
    "Gmusd(mu,sd)=Gamma(mu^2/sd^2, sd^2/mu)\n",
    "module DSI\n",
    "using Distributions\n",
    "struct DiscreteSerialInterval{T<:NamedTuple,F<:AbstractFloat, D<:Distribution}\n",
    "    params::T; dist::D; distvec::Vector{F}\n",
    "end\n",
    "end\n",
    "function DSIconstruct(distconstructor,params,tlen)\n",
    "    dist=distconstructor(params...)\n",
    "    distvec=cdf.(dist,0:tlen) |> diff\n",
    "    DSI.DiscreteSerialInterval(params,dist,distvec)\n",
    "end\n",
    "SIparams=(μ=7.0,σ=3.0)\n",
    "SIdist=Gmusd(SIparams...)\n",
    "serialint=DSIconstruct(Gamma,NamedTuple{(:α,:θ)}(params(SIdist)),tlen)\n",
    "\n",
    "# utils\n",
    "function sysresample(weights)\n",
    "    size=length(weights)\n",
    "    weights=weights/sum(weights) # normalise\n",
    "    cumweights=cumsum(weights)\n",
    "    randomiser=floor.(Int,cumweights.*size.+rand())\n",
    "    freqs=randomiser.-[0; randomiser[1:end-1]]\n",
    "    return(reduce(vcat,fill.(1:size,freqs)))\n",
    "end"
   ]
  },
  {
   "cell_type": "markdown",
   "metadata": {},
   "source": [
    "## Simulation functions"
   ]
  },
  {
   "cell_type": "code",
   "execution_count": 602,
   "metadata": {},
   "outputs": [
    {
     "name": "stderr",
     "output_type": "stream",
     "text": [
      "WARNING: replacing module ApproxSampler.\n"
     ]
    },
    {
     "data": {
      "text/plain": [
       "casesgibbs (generic function with 1 method)"
      ]
     },
     "execution_count": 602,
     "metadata": {},
     "output_type": "execute_result"
    }
   ],
   "source": [
    "using Distributions, StatsFuns, StatsBase, SpecialFunctions\n",
    "function smcinfness!(infness::NamedTuple{(:imported,:loc),T} where T,lochazard::Matrix{<:AbstractFloat},cases::NamedTuple{(:imported,:loc),T} where T,nbparm,gtimevec)\n",
    "    nsample=size(infness.imported,2)\n",
    "    lweights=zeros(nsample)\n",
    "    lkh=zeros(nsample)\n",
    "    α,p=nbparm\n",
    "    θ=(1-p)/p\n",
    "    for t in 1:length(cases.loc)\n",
    "        if cases.imported[t] != 0\n",
    "            # draw gamma: total offsprings\n",
    "            infness.imported[t,:].=rand(Gamma(α*cases.imported[t],θ),nsample)\n",
    "            #distribute infness on timeline\n",
    "            @views lochazard[t+1:end,:].+=infness.imported[t:t,:].*gtimevec[1:length(cases.loc)-t]\n",
    "        end\n",
    "        if cases.loc[t] != 0\n",
    "            # draw gamma: total offsprings\n",
    "            infness.loc[t,:].=rand(Gamma(α*cases.loc[t],θ),nsample)\n",
    "            #distribute infness on timeline\n",
    "            @views lochazard[t+1:end,:].+=infness.loc[t:t,:].*gtimevec[1:length(cases.loc)-t]\n",
    "        end\n",
    "        \n",
    "        # filter particle\n",
    "        @views lweights.+=logpdf.(Poisson.(lochazard[t,:]),cases.loc[t])\n",
    "        #if(2logsumexp(weights)-logsumexp(2 .*weights)< log(nsample)-log(2))\n",
    "            # resample\n",
    "\n",
    "            lkh.+=lweights\n",
    "        if all(lweights.≤-Inf) break end\n",
    "            lweights.-=maximum(lweights)\n",
    "            newid=sysresample(exp.(lweights))\n",
    "            @views infness.imported[1:t,:].=infness.imported[1:t,newid]\n",
    "            @views infness.loc[1:t,:].=infness.loc[1:t,newid]\n",
    "            @views lochazard[1:t,:].=lochazard[1:t,newid]\n",
    "            @views lkh.=lkh[newid]\n",
    "            lweights.=0.0\n",
    "        #end\n",
    "    end\n",
    "    return(lkh)\n",
    "end\n",
    "\n",
    "function infnessgibbs!(infness,lochazard,nsamples,branchdist,gtimedist,tlen,cases)\n",
    "    # infness\n",
    "    infness_pts=(imported=zeros(tlen,nsamples), loc=zeros(tlen,nsamples))\n",
    "    lochazard_pts=zeros(tlen,nsamples)\n",
    "    gtimevec=diff(cdf.(gtimedist,0:tlen))\n",
    "    counts=0\n",
    "    lls=zeros(nsamples)\n",
    "    while true\n",
    "        infness_pts.imported.=0.0\n",
    "        infness_pts.loc.=0.0\n",
    "        lochazard_pts.=0.0\n",
    "        lls.=smcinfness!(infness_pts,lochazard_pts,cases,params(branchdist),gtimevec)\n",
    "        counts+=1\n",
    "        if sum(lls)>-Inf break end\n",
    "        if counts>100 error(\"infness could not be sampled in 100 SMC iterations\") end\n",
    "    end\n",
    "    # sample from lls\n",
    "    sampleid=sample(Weights(exp.(lls.-maximum(lls))))\n",
    "    if isnan(sampleid) sanpleid=1 end\n",
    "    @views infness.imported.=infness_pts.imported[:,sampleid]\n",
    "    @views infness.loc.=infness_pts.loc[:,sampleid]\n",
    "    @views lochazard.=lochazard_pts[:,sampleid]\n",
    "    lls\n",
    "end\n",
    "module ApproxSampler\n",
    "using Distributions, SpecialFunctions\n",
    "struct Vars_t{F<:AbstractFloat,T,I<:Integer}\n",
    "    infness::F\n",
    "    hazard::F\n",
    "    nbparm::T\n",
    "    observed::I\n",
    "    detectprob::F\n",
    "end\n",
    "function poisgammacond(vars::Vars_t,x::I where I<:Integer)\n",
    "    if vars.observed==0 && x==0 return(exp(-vars.hazard)*typeof(vars.infness)(vars.infness==0.0)) end\n",
    "    α,p=vars.nbparm\n",
    "    θ=(1-p)/p\n",
    "    poismean=(1-vars.detectprob)*vars.hazard*(vars.infness/θ)^α\n",
    "    pdf(Poisson(poismean),x)/gamma(α*(vars.observed+x))\n",
    "end\n",
    "function discreteapproxsampler(densityfunc,paramobj,upper,tol=1e-4)\n",
    "    u=rand()\n",
    "    sumcdf=0.0\n",
    "    Δcdf=0.0\n",
    "    xmax=0\n",
    "    while xmax≤upper ||  Δcdf/sumcdf>tol\n",
    "        Δcdf=densityfunc(paramobj,xmax)\n",
    "        sumcdf+=Δcdf\n",
    "        xmax+=1\n",
    "    end\n",
    "    funccdf=0.0\n",
    "    xsample=0\n",
    "    for x in 0:xmax-1\n",
    "        xsample=x\n",
    "        funccdf+=densityfunc(paramobj,x)/sumcdf\n",
    "        if funccdf≥u break end\n",
    "    end\n",
    "    return(xsample)\n",
    "end\n",
    "end\n",
    "function casescondsampler!(cases,infness,hazard,nbparm,observed,detectprob)\n",
    "    for tag in (:imported,:loc)\n",
    "        cases[tag].=ApproxSampler.discreteapproxsampler.(\n",
    "            ApproxSampler.poisgammacond,\n",
    "            ApproxSampler.Vars_t.(infness[tag],hazard[tag],Ref(nbparm),observed[tag],detectprob),\n",
    "            hazard[tag]\n",
    "        )\n",
    "    end\n",
    "end\n",
    "function casesgibbs()\n",
    "end"
   ]
  },
  {
   "cell_type": "code",
   "execution_count": 667,
   "metadata": {},
   "outputs": [
    {
     "name": "stdout",
     "output_type": "stream",
     "text": [
      "  0.103414 seconds (81.28 k allocations: 136.623 MiB, 19.55% gc time)\n",
      "  0.000085 seconds (5 allocations: 192 bytes)\n"
     ]
    }
   ],
   "source": [
    "# test simulation run\n",
    "nb=NBmu(2,3)\n",
    "gt=Gmusd(7,1)\n",
    "R0=2\n",
    "k=0.5\n",
    "λ0=0.02\n",
    "r=0.01\n",
    "q=0.1\n",
    "\n",
    "cases=(imported=observed.imported,loc=observed.loc)\n",
    "importhazard=[λ0*exp(r*t) for t in 1:tlen]\n",
    "lochazard=ones(tlen)\n",
    "hazard=(imported=importhazard,loc=lochazard)\n",
    "infness=(imported=observed.imported.+0.0,loc=observed.loc.+0.0)\n",
    "@time infnessgibbs!(infness,hazard.loc,500,nb,gt,tlen,cases);\n",
    "@time casescondsampler!(cases,infness,hazard,params(nb),observed,q)"
   ]
  },
  {
   "cell_type": "markdown",
   "metadata": {},
   "source": [
    "## MCMC sampling"
   ]
  },
  {
   "cell_type": "code",
   "execution_count": 11,
   "metadata": {},
   "outputs": [],
   "source": [
    "# unknown variables: λ, i, j, R₀, k, q\n",
    "parms=Dict{Symbol,Any}(\n",
    "    :λ₀=>[0.1],\n",
    "    :r=>[0.1],\n",
    "    :R₀=>[1.0],\n",
    "    :k=>[0.5],\n",
    "    :q=>ones(float64,tlen)\n",
    ")\n",
    "priors=Dict{Symbol,Any}()\n",
    "for parname in keys(parms)\n",
    "    priors[parname]=Stochastic(1,()->Uniform(0,5))\n",
    "end\n",
    "priors[:q]=Stochastic(1,()->Uniform(0,1))\n",
    "\n",
    "inputs=Dict{Symbol,Any}(\n",
    "    :SI=serialint\n",
    "    :casedata=casedata\n",
    "    :zerotrick=0.0\n",
    ")\n",
    "\n",
    "inits=copy(parms)\n",
    "inits=[inits]\n",
    "\n",
    "model=Model(\n",
    "    j=Stochastic(1,\n",
    "        (λ₀,r,q)->Poisson.(λ₀*exp.(r.*(1:tlen))) #conditioned to J: Gibbs\n",
    "    ),\n",
    "    i=Stochastic(1,\n",
    "        (j,R₀,k)->0.0# NegativeBinomial.(j.*k,k/(R₀+k)): renewal process\n",
    "    ),\n",
    "    \n",
    "    llcase=Logical(\n",
    "        ()->0.0\n",
    "        , false\n",
    "    ),\n",
    "    llctrl=Logical(\n",
    "        (hhCtrl_i,hhCtrl_n,Λc,βh)->begin\n",
    "            Rmat=fill(βh[5],5,5)\n",
    "            Rmat[1:2,1:2].=βh[1]\n",
    "            Rmat[3:4,3:4].=βh[2]\n",
    "            Rmat[4,1:2]=Rmat[1:2,4].=βh[3]\n",
    "            Rmat[5,5]=βh[4]\n",
    "            global counter+=1\n",
    "            global chk=(Rmat,Λc,βh)\n",
    "            if(counter%100==0) println(counter) end\n",
    "            return(hetLK.ll(hhCtrl_i,hhCtrl_n,Λc.value,Rmat,0.5))\n",
    "        end\n",
    "        , false\n",
    "    ),\n",
    "    lltotal=Logical((llcase,llctrl,invtemp)->(llcase+llctrl)*invtemp),\n",
    "    pseudodata=Stochastic((lltotal)->mb.LogPosterior(lltotal.value),false),\n",
    "    exnodes...\n",
    ")\n",
    "global counter=0\n",
    "setsamplers!(model,[AMM(collect(keys(parms)),Matrix{Float64}(I,10,10).*0.001)])\n",
    "sim1 = mcmc(model, inputs, inits, 3000, burnin=2000, thin=2, chains=1)"
   ]
  },
  {
   "cell_type": "code",
   "execution_count": null,
   "metadata": {},
   "outputs": [],
   "source": [
    "# util functions\n",
    "function importandbranch!(cases::NamedTuple{(:imported,:loc,:infness,:hazard),NTuple{4,Vector{R}}} where R<:Real,importhazard,nbparm,gtimevec,atleastone=false)\n",
    "    for t in 1:length(cases.loc)\n",
    "        if sum(vec[t] for vec in cases)+importhazard[t] == 0 continue end\n",
    "        \n",
    "        # draw cases\n",
    "        cases.imported[t]+=rand(Poisson(importhazard[t]))\n",
    "        cases.loc[t]+=rand(Poisson(cases.hazard[t]))\n",
    "        currinfs=cases.imported[t]+cases.loc[t]\n",
    "        \n",
    "        # draw gamma: total offsprings\n",
    "        if currinfs!=0\n",
    "            α,p=nbparm\n",
    "            θ=(1-p)/p\n",
    "            cases.infness[t]=rand(Gamma(α*currinfs,θ))\n",
    "            #distribute infness on timeline\n",
    "            cases.hazard[t+1:end].+=cases.infness[t].*gtimevec[1:length(cases.loc)-t]\n",
    "            else cases.infness[t]=0.0\n",
    "        end\n",
    "        \n",
    "        # if conditioned that infections ≧ 1\n",
    "        if atleastone\n",
    "            plusoneat=t+ceil(Int,sample(1:length(gtimevec),Weights(gtimevec)))\n",
    "            if plusoneat<=length(cases.loc) cases.loc[plusoneat]+=1 end\n",
    "            atleastone=false\n",
    "        end\n",
    "    end\n",
    "end\n",
    "# clusters generator\n",
    "function importcluster(nsample,branchdist,gtimedist,tlen,importhazard)\n",
    "    labels=(:imported,:loc,:infness,:hazard)\n",
    "    samples=[NamedTuple{labels}(collect((zeros(Float64,tlen) for j in 1:4))) for i in 1:nsample]\n",
    "    gtimevec=diff(cdf.(gtimedist,0:tlen))\n",
    "    importandbranch!.(samples,Ref(importhazard),Ref(params(branchdist)),Ref(gtimevec))\n",
    "    return(samples)\n",
    "end"
   ]
  }
 ],
 "metadata": {
  "jupytext": {
   "formats": "ipynb,jl:light"
  },
  "kernelspec": {
   "display_name": "Julia 1.2.0",
   "language": "julia",
   "name": "julia-1.2"
  },
  "language_info": {
   "file_extension": ".jl",
   "mimetype": "application/julia",
   "name": "julia",
   "version": "1.2.0"
  }
 },
 "nbformat": 4,
 "nbformat_minor": 4
}
